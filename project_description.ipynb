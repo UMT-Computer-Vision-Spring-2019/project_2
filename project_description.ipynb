{
 "cells": [
  {
   "cell_type": "markdown",
   "metadata": {},
   "source": [
    "# Project 2: Image Stitcher\n",
    "## Assigned: 02.01.2019\n",
    "## Due Date: TBD (probably 02.20.2019)\n",
    "\n",
    "Panoramic photography is ubiquitous, with nearly every digital camera having a mode dedicated to doing it.  Here's an example from the Italian Alps:\n",
    "<img src=\"pano.jpg\">\n",
    "Note the extreme aspect ratio: much larger than the 4:3 or 3:2 that is typical of most cameras; suffice to say, the camera that stook this picture did not have a sensor that was this wide.  So how are these things made?  Stated simply, multiple images are taken, mutually identifiable points are located in each of these images, and the images are warped such that these points are coincident.  The matching stage might look like this:\n",
    "<img src=\"office.jpeg\">\n",
    "\n",
    "For this project, you will code your own image stitcher from scratch.  Despite the conceptual simplicity of this operation, there are a surprising number of challenges that need to be addressed.  A general framework for a stitcher might look like this:"
   ]
  },
  {
   "cell_type": "code",
   "execution_count": 1,
   "metadata": {},
   "outputs": [],
   "source": [
    "from harris_response import *\n",
    "\n",
    "\n",
    "class Stitcher(object):\n",
    "    def __init__(self, image_1, image_2):\n",
    "        \n",
    "        # Convert both images to gray scale\n",
    "        image_1 = np.mean(image_1, -1)\n",
    "        image_2 = np.mean(image_2, -1)\n",
    "        \n",
    "        self.images = [image_1, image_2]\n",
    "\n",
    "    def find_keypoints(self, image, n_keypoints):\n",
    "        \n",
    "        \"\"\"\n",
    "        Step 1: This method locates features that are \"good\" for matching.  To do this we will implement the Harris \n",
    "        corner detector\n",
    "        \"\"\"\n",
    "        \n",
    "        filter_size = 5\n",
    "        \n",
    "        # Setup gauss filter\n",
    "        gauss_filter = Filter.make_gauss((filter_size, filter_size), 2)\n",
    "          \n",
    "        # Compute smoothed harris response\n",
    "        out = convolve(compute_harris_response(image, gauss_filter), gauss_filter)  # Smooth results\n",
    " \n",
    "        # Find some good features to match\n",
    "        x, y = adaptive_non_maximal_suppression(out, n_keypoints, filter_size)\n",
    "        \n",
    "        # Return the locations\n",
    "        return x, y\n",
    "        \n",
    "    def generate_descriptors(self):\n",
    "        \"\"\"\n",
    "        Step 2: After identifying relevant keypoints, we need to come up with a quantitative description of the \n",
    "        neighborhood of that keypoint, so that we can match it to keypoints in other images.\n",
    "        \"\"\"\n",
    "        img_1_keypoint_x, img_1_keypoint_y = self.find_keypoints(self.images[0], 100) \n",
    "        img_2_keypoint_x, img_2_keypoint_y = self.find_keypoints(self.images[1], 100) \n",
    "\n",
    "        \n",
    "        \n",
    "    def match_keypoints(self):\n",
    "        \"\"\"\n",
    "        Step 3: Compare keypoint descriptions between images, identify potential matches, and filter likely\n",
    "        mismatches\n",
    "        \"\"\"\n",
    "        \n",
    "    def find_homography(self):\n",
    "        \"\"\"\n",
    "        Step 4: Find a linear transformation (of various complexities) that maps pixels from the second image to \n",
    "        pixels in the first image\n",
    "        \"\"\"\n",
    "        \n",
    "    def stitch(self):\n",
    "        \"\"\"\n",
    "        Step 5: Transform second image into local coordinate system of first image, and (perhaps) perform blending\n",
    "        to avoid obvious seams between images.\n",
    "        \"\"\""
   ]
  },
  {
   "cell_type": "markdown",
   "metadata": {},
   "source": [
    "We will populate these functions over the next several weeks, a process that will involve delving into some of the most elementary operations in digital signal processing.  \n",
    "\n",
    "As a test case, apply your stitcher to at least four overlapping images that you've taken.  With a stitcher that works on two images, more images can be added by applying the method recursively."
   ]
  },
  {
   "cell_type": "code",
   "execution_count": null,
   "metadata": {},
   "outputs": [],
   "source": []
  }
 ],
 "metadata": {
  "kernelspec": {
   "display_name": "Python 3",
   "language": "python",
   "name": "python3"
  },
  "language_info": {
   "codemirror_mode": {
    "name": "ipython",
    "version": 3
   },
   "file_extension": ".py",
   "mimetype": "text/x-python",
   "name": "python",
   "nbconvert_exporter": "python",
   "pygments_lexer": "ipython3",
   "version": "3.6.5"
  }
 },
 "nbformat": 4,
 "nbformat_minor": 2
}
